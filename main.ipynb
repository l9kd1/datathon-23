{
 "cells": [
  {
   "cell_type": "markdown",
   "id": "5cd63cc9",
   "metadata": {
    "papermill": {
     "duration": 0.005608,
     "end_time": "2023-10-30T17:18:02.278082",
     "exception": false,
     "start_time": "2023-10-30T17:18:02.272474",
     "status": "completed"
    },
    "tags": []
   },
   "source": [
    "# Mise en situation\n",
    "\n",
    "Vous êtes une jeune équipe de diplômés et vous voulez créer votre propre entreprise de fintech. Vous savez que la compagnie Crystal Dawn Private Qants essaie depuis des années de développer une stratégie de gestion de portefeuille efficace. \n",
    "\n",
    "Malheureusement une épidémie de *Lukehead Byus* a frappé leurs analystes avant qu'ils puissent livrer leur solution. Forts de cette information, vous ne laissez pas passer cette opportunité de leur vendre votre propre stratégie.\n",
    "\n",
    "Votre espion qui évolue au sein de Crystal Dawn et qui a miraculeusement échappé à l'épidémie a réussi à vous obtenir un entretien vendredi prochain. \n",
    "\n",
    "Il vous fournit les exigeances de la compagnie qui doivent impérativement être respectées sans quoi vous n'aurez aucune chance de décrocher le contrat:\n",
    "\n",
    "- Le portefeuille doit toujours comporter entre 80 et 120 titres.\n",
    "- Vous ne pouvez investir que dans les 304 titres représentatifs du S&P 500 fournis avec le présent notebook.\n",
    "- La stratégie doit être 'aveugle', il est interdit d'utiliser de l'information implicite liée au futur lorsque vous roulez votre stratégie sur les données historiques. (Vous risquez d'attraper le *Luckehead Byus*.)\n",
    "- Vous pouvez rebalancer votre portefeuille chaque jour.\n",
    "\n",
    "\n",
    "La compagnie à qui vous essayez de vendre votre stratégie va tenir des mini conférences le samedi matin ainsi que le dimanche. Assurez-vous d'y être pour récolter des informations supplémentaires sur ce à quoi elle sera attentive lors de votre présentation.\n",
    "\n",
    "Note: *Se retirer complètement pendant une période est autorisé ($\\sum w_i=0$) si le signal de retrait est produit algorithmiquement et non la conséquence d'une décision arbitraire, gare au Luckehead Byus !*"
   ]
  },
  {
   "cell_type": "markdown",
   "id": "00dc9e7b",
   "metadata": {
    "papermill": {
     "duration": 0.004472,
     "end_time": "2023-10-30T17:18:02.287496",
     "exception": false,
     "start_time": "2023-10-30T17:18:02.283024",
     "status": "completed"
    },
    "tags": []
   },
   "source": [
    "## Livrables\n",
    "Pour passer l'entretien préliminaire vous devez fournir:\n",
    "- Un notebook écrit en Python ou R fonctionnel avec certaines cellules de code obligatoires.\n",
    "- Un fichier submission.csv contenant la pondération de votre portefeuille (le montant investi dans chaque titre) sur l'intervalle 2000-2006 avec un format correspondant au fichier `sample_submission.csv` \n",
    "\n",
    "Si vous passez l'entretien préliminaire, vous devrez préparer un rapide pitch de 6 minutes pour convaincre votre client potentiel de la qualité de votre stratégie. Crystal Dawn Private Quants vous demande d'absolument présenter:\n",
    "- Un graphe du rendement de votre stratégie comparée au ticker SPY\n",
    "\n",
    "Vous saurez mardi soir si vous avez passé cet entretien préliminaire."
   ]
  },
  {
   "cell_type": "code",
   "execution_count": 17,
   "id": "8693f1b2",
   "metadata": {
    "execution": {
     "iopub.execute_input": "2023-10-30T17:18:02.299222Z",
     "iopub.status.busy": "2023-10-30T17:18:02.298552Z",
     "iopub.status.idle": "2023-10-30T17:18:02.302903Z",
     "shell.execute_reply": "2023-10-30T17:18:02.302314Z"
    },
    "papermill": {
     "duration": 0.01245,
     "end_time": "2023-10-30T17:18:02.304761",
     "exception": false,
     "start_time": "2023-10-30T17:18:02.292311",
     "status": "completed"
    },
    "tags": []
   },
   "outputs": [],
   "source": [
    "#!pip install pandas seaborn matplotlib numpy statsmodels scikit-learn\n"
   ]
  },
  {
   "cell_type": "code",
   "execution_count": 18,
   "id": "e8259f79",
   "metadata": {
    "execution": {
     "iopub.execute_input": "2023-10-30T17:18:02.316900Z",
     "iopub.status.busy": "2023-10-30T17:18:02.316283Z",
     "iopub.status.idle": "2023-10-30T17:18:03.755480Z",
     "shell.execute_reply": "2023-10-30T17:18:03.754550Z"
    },
    "papermill": {
     "duration": 1.448154,
     "end_time": "2023-10-30T17:18:03.758045",
     "exception": false,
     "start_time": "2023-10-30T17:18:02.309891",
     "status": "completed"
    },
    "tags": []
   },
   "outputs": [],
   "source": [
    "import pandas as pd \n",
    "import statsmodels as sm \n",
    "import numpy as np \n",
    "import sklearn as sk\n",
    "import matplotlib.pyplot as plt\n"
   ]
  },
  {
   "cell_type": "markdown",
   "id": "70e817f5",
   "metadata": {
    "papermill": {
     "duration": 0.004605,
     "end_time": "2023-10-30T17:18:03.767838",
     "exception": false,
     "start_time": "2023-10-30T17:18:03.763233",
     "status": "completed"
    },
    "tags": []
   },
   "source": [
    "## Loading data"
   ]
  },
  {
   "cell_type": "code",
   "execution_count": 19,
   "id": "871aaef6",
   "metadata": {
    "execution": {
     "iopub.execute_input": "2023-10-30T17:18:03.779402Z",
     "iopub.status.busy": "2023-10-30T17:18:03.778905Z",
     "iopub.status.idle": "2023-10-30T17:18:03.784287Z",
     "shell.execute_reply": "2023-10-30T17:18:03.782837Z"
    },
    "papermill": {
     "duration": 0.01445,
     "end_time": "2023-10-30T17:18:03.787118",
     "exception": false,
     "start_time": "2023-10-30T17:18:03.772668",
     "status": "completed"
    },
    "tags": []
   },
   "outputs": [],
   "source": [
    "ROOT='./kaggle/input/dt23-test/' # remove the dot (.) for the kaggle version"
   ]
  },
  {
   "cell_type": "code",
   "execution_count": 20,
   "id": "bab21b1f",
   "metadata": {
    "execution": {
     "iopub.execute_input": "2023-10-30T17:18:03.800324Z",
     "iopub.status.busy": "2023-10-30T17:18:03.799707Z",
     "iopub.status.idle": "2023-10-30T17:18:04.733136Z",
     "shell.execute_reply": "2023-10-30T17:18:04.731684Z"
    },
    "papermill": {
     "duration": 0.943082,
     "end_time": "2023-10-30T17:18:04.735623",
     "exception": false,
     "start_time": "2023-10-30T17:18:03.792541",
     "status": "completed"
    },
    "tags": []
   },
   "outputs": [
    {
     "data": {
      "text/html": [
       "<div>\n",
       "<style scoped>\n",
       "    .dataframe tbody tr th:only-of-type {\n",
       "        vertical-align: middle;\n",
       "    }\n",
       "\n",
       "    .dataframe tbody tr th {\n",
       "        vertical-align: top;\n",
       "    }\n",
       "\n",
       "    .dataframe thead th {\n",
       "        text-align: right;\n",
       "    }\n",
       "</style>\n",
       "<table border=\"1\" class=\"dataframe\">\n",
       "  <thead>\n",
       "    <tr style=\"text-align: right;\">\n",
       "      <th></th>\n",
       "      <th>adjusted_close_CSCO</th>\n",
       "      <th>adjusted_close_DVN</th>\n",
       "      <th>adjusted_close_MRO</th>\n",
       "      <th>adjusted_close_BA</th>\n",
       "      <th>adjusted_close_GILD</th>\n",
       "      <th>adjusted_close_MDT</th>\n",
       "      <th>adjusted_close_MO</th>\n",
       "      <th>adjusted_close_CTRA</th>\n",
       "      <th>adjusted_close_MCHP</th>\n",
       "      <th>adjusted_close_EIX</th>\n",
       "      <th>adjusted_close_BBY</th>\n",
       "      <th>adjusted_close_GEN</th>\n",
       "      <th>adjusted_close_WBA</th>\n",
       "      <th>adjusted_close_DTE</th>\n",
       "      <th>adjusted_close_C</th>\n",
       "      <th>adjusted_close_T</th>\n",
       "      <th>adjusted_close_APH</th>\n",
       "      <th>adjusted_close_SYY</th>\n",
       "      <th>adjusted_close_MSI</th>\n",
       "      <th>adjusted_close_ADM</th>\n",
       "    </tr>\n",
       "    <tr>\n",
       "      <th>timestamp</th>\n",
       "      <th></th>\n",
       "      <th></th>\n",
       "      <th></th>\n",
       "      <th></th>\n",
       "      <th></th>\n",
       "      <th></th>\n",
       "      <th></th>\n",
       "      <th></th>\n",
       "      <th></th>\n",
       "      <th></th>\n",
       "      <th></th>\n",
       "      <th></th>\n",
       "      <th></th>\n",
       "      <th></th>\n",
       "      <th></th>\n",
       "      <th></th>\n",
       "      <th></th>\n",
       "      <th></th>\n",
       "      <th></th>\n",
       "      <th></th>\n",
       "    </tr>\n",
       "  </thead>\n",
       "  <tbody>\n",
       "    <tr>\n",
       "      <th>2023-10-06</th>\n",
       "      <td>53.450000</td>\n",
       "      <td>43.70</td>\n",
       "      <td>24.59</td>\n",
       "      <td>187.38</td>\n",
       "      <td>74.74</td>\n",
       "      <td>76.12</td>\n",
       "      <td>42.07</td>\n",
       "      <td>26.80</td>\n",
       "      <td>79.54</td>\n",
       "      <td>62.06</td>\n",
       "      <td>68.76</td>\n",
       "      <td>17.35</td>\n",
       "      <td>21.81</td>\n",
       "      <td>95.16</td>\n",
       "      <td>40.57</td>\n",
       "      <td>14.450000</td>\n",
       "      <td>83.37</td>\n",
       "      <td>62.950000</td>\n",
       "      <td>276.14</td>\n",
       "      <td>72.86</td>\n",
       "    </tr>\n",
       "    <tr>\n",
       "      <th>2023-10-05</th>\n",
       "      <td>53.070000</td>\n",
       "      <td>42.85</td>\n",
       "      <td>24.24</td>\n",
       "      <td>186.29</td>\n",
       "      <td>74.70</td>\n",
       "      <td>76.15</td>\n",
       "      <td>41.99</td>\n",
       "      <td>26.11</td>\n",
       "      <td>77.35</td>\n",
       "      <td>60.69</td>\n",
       "      <td>67.63</td>\n",
       "      <td>16.99</td>\n",
       "      <td>22.18</td>\n",
       "      <td>94.20</td>\n",
       "      <td>39.88</td>\n",
       "      <td>14.550569</td>\n",
       "      <td>82.64</td>\n",
       "      <td>63.650000</td>\n",
       "      <td>273.23</td>\n",
       "      <td>73.13</td>\n",
       "    </tr>\n",
       "    <tr>\n",
       "      <th>2023-10-04</th>\n",
       "      <td>53.450000</td>\n",
       "      <td>43.35</td>\n",
       "      <td>24.40</td>\n",
       "      <td>186.73</td>\n",
       "      <td>74.74</td>\n",
       "      <td>76.27</td>\n",
       "      <td>41.65</td>\n",
       "      <td>25.83</td>\n",
       "      <td>77.77</td>\n",
       "      <td>61.23</td>\n",
       "      <td>68.56</td>\n",
       "      <td>17.14</td>\n",
       "      <td>22.29</td>\n",
       "      <td>97.11</td>\n",
       "      <td>39.81</td>\n",
       "      <td>14.373960</td>\n",
       "      <td>83.34</td>\n",
       "      <td>64.493375</td>\n",
       "      <td>274.23</td>\n",
       "      <td>73.47</td>\n",
       "    </tr>\n",
       "    <tr>\n",
       "      <th>2023-10-03</th>\n",
       "      <td>53.650000</td>\n",
       "      <td>45.75</td>\n",
       "      <td>25.68</td>\n",
       "      <td>188.92</td>\n",
       "      <td>73.27</td>\n",
       "      <td>76.54</td>\n",
       "      <td>41.13</td>\n",
       "      <td>26.34</td>\n",
       "      <td>76.75</td>\n",
       "      <td>61.23</td>\n",
       "      <td>67.61</td>\n",
       "      <td>17.36</td>\n",
       "      <td>22.55</td>\n",
       "      <td>97.36</td>\n",
       "      <td>39.86</td>\n",
       "      <td>14.501511</td>\n",
       "      <td>82.18</td>\n",
       "      <td>63.778987</td>\n",
       "      <td>271.49</td>\n",
       "      <td>73.81</td>\n",
       "    </tr>\n",
       "    <tr>\n",
       "      <th>2023-10-02</th>\n",
       "      <td>53.997474</td>\n",
       "      <td>45.65</td>\n",
       "      <td>25.59</td>\n",
       "      <td>187.83</td>\n",
       "      <td>74.10</td>\n",
       "      <td>77.77</td>\n",
       "      <td>41.58</td>\n",
       "      <td>26.32</td>\n",
       "      <td>78.37</td>\n",
       "      <td>61.04</td>\n",
       "      <td>69.09</td>\n",
       "      <td>17.53</td>\n",
       "      <td>22.42</td>\n",
       "      <td>95.49</td>\n",
       "      <td>40.50</td>\n",
       "      <td>14.393583</td>\n",
       "      <td>82.65</td>\n",
       "      <td>64.671972</td>\n",
       "      <td>272.92</td>\n",
       "      <td>74.20</td>\n",
       "    </tr>\n",
       "  </tbody>\n",
       "</table>\n",
       "</div>"
      ],
      "text/plain": [
       "            adjusted_close_CSCO  adjusted_close_DVN  adjusted_close_MRO  \\\n",
       "timestamp                                                                 \n",
       "2023-10-06            53.450000               43.70               24.59   \n",
       "2023-10-05            53.070000               42.85               24.24   \n",
       "2023-10-04            53.450000               43.35               24.40   \n",
       "2023-10-03            53.650000               45.75               25.68   \n",
       "2023-10-02            53.997474               45.65               25.59   \n",
       "\n",
       "            adjusted_close_BA  adjusted_close_GILD  adjusted_close_MDT  \\\n",
       "timestamp                                                                \n",
       "2023-10-06             187.38                74.74               76.12   \n",
       "2023-10-05             186.29                74.70               76.15   \n",
       "2023-10-04             186.73                74.74               76.27   \n",
       "2023-10-03             188.92                73.27               76.54   \n",
       "2023-10-02             187.83                74.10               77.77   \n",
       "\n",
       "            adjusted_close_MO  adjusted_close_CTRA  adjusted_close_MCHP  \\\n",
       "timestamp                                                                 \n",
       "2023-10-06              42.07                26.80                79.54   \n",
       "2023-10-05              41.99                26.11                77.35   \n",
       "2023-10-04              41.65                25.83                77.77   \n",
       "2023-10-03              41.13                26.34                76.75   \n",
       "2023-10-02              41.58                26.32                78.37   \n",
       "\n",
       "            adjusted_close_EIX  adjusted_close_BBY  adjusted_close_GEN  \\\n",
       "timestamp                                                                \n",
       "2023-10-06               62.06               68.76               17.35   \n",
       "2023-10-05               60.69               67.63               16.99   \n",
       "2023-10-04               61.23               68.56               17.14   \n",
       "2023-10-03               61.23               67.61               17.36   \n",
       "2023-10-02               61.04               69.09               17.53   \n",
       "\n",
       "            adjusted_close_WBA  adjusted_close_DTE  adjusted_close_C  \\\n",
       "timestamp                                                              \n",
       "2023-10-06               21.81               95.16             40.57   \n",
       "2023-10-05               22.18               94.20             39.88   \n",
       "2023-10-04               22.29               97.11             39.81   \n",
       "2023-10-03               22.55               97.36             39.86   \n",
       "2023-10-02               22.42               95.49             40.50   \n",
       "\n",
       "            adjusted_close_T  adjusted_close_APH  adjusted_close_SYY  \\\n",
       "timestamp                                                              \n",
       "2023-10-06         14.450000               83.37           62.950000   \n",
       "2023-10-05         14.550569               82.64           63.650000   \n",
       "2023-10-04         14.373960               83.34           64.493375   \n",
       "2023-10-03         14.501511               82.18           63.778987   \n",
       "2023-10-02         14.393583               82.65           64.671972   \n",
       "\n",
       "            adjusted_close_MSI  adjusted_close_ADM  \n",
       "timestamp                                           \n",
       "2023-10-06              276.14               72.86  \n",
       "2023-10-05              273.23               73.13  \n",
       "2023-10-04              274.23               73.47  \n",
       "2023-10-03              271.49               73.81  \n",
       "2023-10-02              272.92               74.20  "
      ]
     },
     "execution_count": 20,
     "metadata": {},
     "output_type": "execute_result"
    }
   ],
   "source": [
    "adjusted_close = pd.read_csv(ROOT+'series/adjusted_close.csv',index_col=0)\n",
    "adjusted_close.index = pd.to_datetime(adjusted_close.index)\n",
    "adjusted_close = adjusted_close.dropna(axis=1).iloc[:,:20]\n",
    "adjusted_close.head()\n"
   ]
  },
  {
   "cell_type": "markdown",
   "id": "a5e74bfc",
   "metadata": {
    "papermill": {
     "duration": 0.005086,
     "end_time": "2023-10-30T17:18:04.746211",
     "exception": false,
     "start_time": "2023-10-30T17:18:04.741125",
     "status": "completed"
    },
    "tags": []
   },
   "source": [
    "## Pondération du portefeuille\n",
    "Entrez ici les fonctions que vous utiliserez pour générer les poids de votre portefeuille sur base d'indicateurs tirés des données historiques ou produits avec des méthodes statistiques et/ou d'apprentissage machine.\n",
    "\n",
    "**Assurez vous que la relation $\\sum_{i=1}^{i=302}w_i=1$ est toujours respectée.**\n",
    "\n",
    "Les méthodes que vous voyez ici ne sont pas valides pour la soumission finale:\n",
    " - `rand_weights`: sélectionne aléatoirement 5 titres et génère des poids aléatoires.\n",
    " - `best_return_fibo`: sélectionne les 10 meilleurs titres en fonction d'une prédiction sur leur rendement et leur assigne des poids proportionnels aux 10 premiers termes de la suite de Fibonacci."
   ]
  },
  {
   "cell_type": "code",
   "execution_count": 21,
   "id": "625999bd",
   "metadata": {
    "execution": {
     "iopub.execute_input": "2023-10-30T17:18:04.758857Z",
     "iopub.status.busy": "2023-10-30T17:18:04.758470Z",
     "iopub.status.idle": "2023-10-30T17:18:04.769077Z",
     "shell.execute_reply": "2023-10-30T17:18:04.767802Z"
    },
    "papermill": {
     "duration": 0.019714,
     "end_time": "2023-10-30T17:18:04.771243",
     "exception": false,
     "start_time": "2023-10-30T17:18:04.751529",
     "status": "completed"
    },
    "tags": []
   },
   "outputs": [],
   "source": [
    "def rand_weights(returns,*args,**kwargs):\n",
    "    \"\"\"\n",
    "        Produces random weights for num_to_select assets \n",
    "    \"\"\"\n",
    "    weights = np.zeros(len(returns.T))\n",
    "    num_to_select = 5\n",
    "\n",
    "    # Generate unique random indices within the array size\n",
    "    random_indices = np.random.choice(len(weights), num_to_select, replace=False)\n",
    "\n",
    "    # Create a boolean mask based on the randomly selected indices\n",
    "    mask = np.zeros(len(weights), dtype=bool)\n",
    "    mask[random_indices] = True\n",
    "    rw = np.random.rand(sum(mask))\n",
    "    rw /= sum(rw)\n",
    "    weights[mask]=rw\n",
    "    return weights\n",
    "\n",
    "def best_returns_fibo(returns,*args,**kwargs):\n",
    "    \"\"\" \n",
    "        Selects the 10 best returns and assigns weights according to a fibonacci ratio \n",
    "    \"\"\"\n",
    "    weights = np.zeros(len(returns.T))\n",
    "\n",
    "    # Select the indices of the 10 best stocks\n",
    "    indices=np.argsort(returns.iloc[-1].values)[::-1][:10]\n",
    "\n",
    "    # Generate weights according to a fibonacci sequence\n",
    "    fibo = np.array([1, 1, 2, 3, 5, 8, 13, 21, 34, 55])[::-1].astype(float)\n",
    "    fibo /= sum(fibo)\n",
    "\n",
    "    # Create a boolean mask based on the randomly selected indices\n",
    "    mask = np.zeros(len(weights), dtype=bool)\n",
    "    mask[indices] = True\n",
    "    \n",
    "    weights[mask]=fibo\n",
    "    return pd.Series({\"weight_\"+a.split('_')[-1]:b for a,b in zip(returns.columns,weights)})\n"
   ]
  },
  {
   "cell_type": "markdown",
   "id": "2915ad58",
   "metadata": {
    "papermill": {
     "duration": 0.005147,
     "end_time": "2023-10-30T17:18:04.782009",
     "exception": false,
     "start_time": "2023-10-30T17:18:04.776862",
     "status": "completed"
    },
    "tags": []
   },
   "source": [
    "## Modèle prédictif\n",
    "Programmez ici vos modèles prédictifs et analytiques qui vous permettront de choisir la meilleure pondération possible étant donnée les données antérieures au moment du rebalancement.\n",
    "\n",
    "C'est ici qu'il faut faire attention à ne pas attraper le *Lukehad Byus*, vous prenez de gros risques si les arguments de vos fonctions prennent en compte des données postérieures au moment du rebalancement ('savoir' à priori qu'AAPL va bien performer constitue une donnée postérieure). \n",
    "\n",
    "Le modèle actuel est très simpliste:\n",
    "- `polynomial_regression`: effectue une simple régression avec un polynome du 3e degré pour essayer de prédire le rendement que fera chaque titre le lendemain."
   ]
  },
  {
   "cell_type": "code",
   "execution_count": 22,
   "id": "96b11658",
   "metadata": {
    "execution": {
     "iopub.execute_input": "2023-10-30T17:18:04.793969Z",
     "iopub.status.busy": "2023-10-30T17:18:04.793557Z",
     "iopub.status.idle": "2023-10-30T17:18:06.231683Z",
     "shell.execute_reply": "2023-10-30T17:18:06.230331Z"
    },
    "papermill": {
     "duration": 1.447143,
     "end_time": "2023-10-30T17:18:06.234329",
     "exception": false,
     "start_time": "2023-10-30T17:18:04.787186",
     "status": "completed"
    },
    "tags": []
   },
   "outputs": [],
   "source": [
    "import statsmodels.api as sm\n",
    "from sklearn.preprocessing import PolynomialFeatures\n",
    "\n",
    "def polynomial_regression(past_prices):\n",
    "    \"\"\"\n",
    "        Fits a 3d degree polynomial for each asset and returns the predicted value\n",
    "    \"\"\"\n",
    "\n",
    "    models={}\n",
    "\n",
    "    # Fitting a 3d degree polynomial for each asset\n",
    "    for c in past_prices.columns:\n",
    "        x=past_prices[[c]]\n",
    "        xp = PolynomialFeatures(degree=3).fit_transform(np.arange(len(x)).reshape((len(x),1)))\n",
    "        model = sm.OLS(x.values, xp).fit()\n",
    "        models[c] = model\n",
    "\n",
    "    # Returning the expected return for the next timestep for all stocks\n",
    "    return pd.DataFrame({k:v.predict(PolynomialFeatures(degree=3).fit_transform(np.array([len(x)]).reshape((1,1)))) for k,v in models.items()})/past_prices.iloc[-1]\n"
   ]
  },
  {
   "cell_type": "markdown",
   "id": "d63b1c64",
   "metadata": {
    "papermill": {
     "duration": 0.004971,
     "end_time": "2023-10-30T17:18:06.245227",
     "exception": false,
     "start_time": "2023-10-30T17:18:06.240256",
     "status": "completed"
    },
    "tags": []
   },
   "source": [
    "## Rebalancement journalier"
   ]
  },
  {
   "cell_type": "markdown",
   "id": "bbf4d34f",
   "metadata": {
    "papermill": {
     "duration": 0.0049,
     "end_time": "2023-10-30T17:18:06.255306",
     "exception": false,
     "start_time": "2023-10-30T17:18:06.250406",
     "status": "completed"
    },
    "tags": []
   },
   "source": [
    "Vous choisissez ici ce que vous fournissez aux fonctions précédemment implémentées.\n",
    "\n",
    "L'utilisation de `rolling()` ([documentation](https://pandas.pydata.org/docs/reference/api/pandas.DataFrame.rolling.html)) est pratiquement obligatoire pour éviter d'incorporer les données futures dans votre système.\n",
    "\n",
    "Si vous ne respectez pas l'intervalle `2000-01-01`-`2006-01-01` votre solution ne sera pas acceptée."
   ]
  },
  {
   "cell_type": "code",
   "execution_count": 23,
   "id": "611bd866",
   "metadata": {
    "execution": {
     "iopub.execute_input": "2023-10-30T17:18:06.267753Z",
     "iopub.status.busy": "2023-10-30T17:18:06.267382Z",
     "iopub.status.idle": "2023-10-30T17:18:42.142555Z",
     "shell.execute_reply": "2023-10-30T17:18:42.141368Z"
    },
    "papermill": {
     "duration": 35.884462,
     "end_time": "2023-10-30T17:18:42.145015",
     "exception": false,
     "start_time": "2023-10-30T17:18:06.260553",
     "status": "completed"
    },
    "tags": []
   },
   "outputs": [],
   "source": [
    "weights_df = []\n",
    "index = []\n",
    "adjusted_close=adjusted_close.sort_index()\n",
    "start,stop = pd.to_datetime('2000-01-01'),pd.to_datetime('2006-01-01')\n",
    "for x in adjusted_close[(adjusted_close.index>=pd.to_datetime(start))&(adjusted_close.index<pd.to_datetime(stop))].rolling(30):\n",
    "    if len(x)==30:\n",
    "        index.append(x.index.max())\n",
    "        weights_df.append(best_returns_fibo(polynomial_regression(x)))\n"
   ]
  },
  {
   "cell_type": "markdown",
   "id": "68a7f153",
   "metadata": {
    "papermill": {
     "duration": 0.005144,
     "end_time": "2023-10-30T17:18:42.155823",
     "exception": false,
     "start_time": "2023-10-30T17:18:42.150679",
     "status": "completed"
    },
    "tags": []
   },
   "source": [
    "Génération de la soumission avec le format requis."
   ]
  },
  {
   "cell_type": "code",
   "execution_count": 24,
   "id": "a71ea6f6",
   "metadata": {
    "execution": {
     "iopub.execute_input": "2023-10-30T17:18:42.168434Z",
     "iopub.status.busy": "2023-10-30T17:18:42.167228Z",
     "iopub.status.idle": "2023-10-30T17:18:42.351499Z",
     "shell.execute_reply": "2023-10-30T17:18:42.350348Z"
    },
    "papermill": {
     "duration": 0.192848,
     "end_time": "2023-10-30T17:18:42.353833",
     "exception": false,
     "start_time": "2023-10-30T17:18:42.160985",
     "status": "completed"
    },
    "tags": []
   },
   "outputs": [],
   "source": [
    "weights_df = pd.DataFrame(weights_df,index=index)\n",
    "weights_df.to_csv('sample_submission.csv')\n"
   ]
  },
  {
   "cell_type": "markdown",
   "id": "34e60069",
   "metadata": {
    "papermill": {
     "duration": 0.004836,
     "end_time": "2023-10-30T17:18:42.364100",
     "exception": false,
     "start_time": "2023-10-30T17:18:42.359264",
     "status": "completed"
    },
    "tags": []
   },
   "source": [
    "## Evaluation"
   ]
  },
  {
   "cell_type": "code",
   "execution_count": 25,
   "id": "99a161be",
   "metadata": {
    "execution": {
     "iopub.execute_input": "2023-10-30T17:18:42.376137Z",
     "iopub.status.busy": "2023-10-30T17:18:42.375317Z",
     "iopub.status.idle": "2023-10-30T17:18:42.383390Z",
     "shell.execute_reply": "2023-10-30T17:18:42.382441Z"
    },
    "papermill": {
     "duration": 0.016269,
     "end_time": "2023-10-30T17:18:42.385454",
     "exception": false,
     "start_time": "2023-10-30T17:18:42.369185",
     "status": "completed"
    },
    "tags": []
   },
   "outputs": [],
   "source": [
    "prices_df = adjusted_close.loc[weights_df.index]\n",
    "returns_df = prices_df.shift(-1)/prices_df\n"
   ]
  },
  {
   "cell_type": "code",
   "execution_count": 26,
   "id": "a677ed53",
   "metadata": {
    "execution": {
     "iopub.execute_input": "2023-10-30T17:18:42.397182Z",
     "iopub.status.busy": "2023-10-30T17:18:42.396826Z",
     "iopub.status.idle": "2023-10-30T17:18:42.430557Z",
     "shell.execute_reply": "2023-10-30T17:18:42.429625Z"
    },
    "papermill": {
     "duration": 0.04223,
     "end_time": "2023-10-30T17:18:42.432849",
     "exception": false,
     "start_time": "2023-10-30T17:18:42.390619",
     "status": "completed"
    },
    "tags": []
   },
   "outputs": [],
   "source": [
    "bmrk = pd.read_csv(ROOT+'series/benchmark/SPY_returns.csv',index_col=0)\n",
    "bmrk.index = pd.to_datetime(bmrk.index)\n"
   ]
  },
  {
   "cell_type": "code",
   "execution_count": 27,
   "id": "3b9cb957",
   "metadata": {
    "execution": {
     "iopub.execute_input": "2023-10-30T17:18:42.445868Z",
     "iopub.status.busy": "2023-10-30T17:18:42.445489Z",
     "iopub.status.idle": "2023-10-30T17:18:42.836151Z",
     "shell.execute_reply": "2023-10-30T17:18:42.834880Z"
    },
    "papermill": {
     "duration": 0.400469,
     "end_time": "2023-10-30T17:18:42.838786",
     "exception": false,
     "start_time": "2023-10-30T17:18:42.438317",
     "status": "completed"
    },
    "tags": []
   },
   "outputs": [
    {
     "data": {
      "image/png": "[encoded data removed]",
      "text/plain": [
       "<Figure size 1200x300 with 1 Axes>"
      ]
     },
     "metadata": {},
     "output_type": "display_data"
    }
   ],
   "source": [
    "porfolio_performance = pd.DataFrame(pd.DataFrame(returns_df.values*weights_df.values, columns=weights_df.columns, index=weights_df.index).sum(axis=1),columns=['portfolio_return'])[:-2]\n",
    "daily_returns = porfolio_performance.merge(bmrk,left_index=True,right_index=True,how='left')-1\n",
    "cumulative_returns = ((daily_returns+1).cumprod()-1)\n",
    "cumulative_returns.plot(figsize=(12,3))\n",
    "plt.grid()\n"
   ]
  },
  {
   "cell_type": "code",
   "execution_count": 28,
   "id": "a786966b",
   "metadata": {
    "execution": {
     "iopub.execute_input": "2023-10-30T17:18:42.852996Z",
     "iopub.status.busy": "2023-10-30T17:18:42.851752Z",
     "iopub.status.idle": "2023-10-30T17:18:43.164884Z",
     "shell.execute_reply": "2023-10-30T17:18:43.164234Z"
    },
    "papermill": {
     "duration": 0.322184,
     "end_time": "2023-10-30T17:18:43.167172",
     "exception": false,
     "start_time": "2023-10-30T17:18:42.844988",
     "status": "completed"
    },
    "tags": []
   },
   "outputs": [
    {
     "data": {
      "image/png": "[encoded data removed]",
      "text/plain": [
       "<Figure size 1200x300 with 1 Axes>"
      ]
     },
     "metadata": {},
     "output_type": "display_data"
    }
   ],
   "source": [
    "daily_returns.plot(figsize=(12,3))\n",
    "plt.grid()\n"
   ]
  },
  {
   "cell_type": "code",
   "execution_count": 29,
   "id": "5e3043d8",
   "metadata": {
    "execution": {
     "iopub.execute_input": "2023-10-30T17:18:43.183167Z",
     "iopub.status.busy": "2023-10-30T17:18:43.182277Z",
     "iopub.status.idle": "2023-10-30T17:18:43.190548Z",
     "shell.execute_reply": "2023-10-30T17:18:43.189521Z"
    },
    "papermill": {
     "duration": 0.018436,
     "end_time": "2023-10-30T17:18:43.192706",
     "exception": false,
     "start_time": "2023-10-30T17:18:43.174270",
     "status": "completed"
    },
    "tags": []
   },
   "outputs": [
    {
     "data": {
      "text/plain": [
       "-0.005192299107921514"
      ]
     },
     "execution_count": 29,
     "metadata": {},
     "output_type": "execute_result"
    }
   ],
   "source": [
    "cov_matrix = daily_returns.cov()\n",
    "beta = cov_matrix['portfolio_return']['benchmark_return']/cov_matrix['benchmark_return']['benchmark_return']\n",
    "beta\n"
   ]
  },
  {
   "cell_type": "code",
   "execution_count": 30,
   "id": "ad7e1532",
   "metadata": {
    "execution": {
     "iopub.execute_input": "2023-10-30T17:18:43.207678Z",
     "iopub.status.busy": "2023-10-30T17:18:43.207372Z",
     "iopub.status.idle": "2023-10-30T17:18:43.268767Z",
     "shell.execute_reply": "2023-10-30T17:18:43.268021Z"
    },
    "papermill": {
     "duration": 0.070609,
     "end_time": "2023-10-30T17:18:43.270371",
     "exception": false,
     "start_time": "2023-10-30T17:18:43.199762",
     "status": "completed"
    },
    "tags": []
   },
   "outputs": [
    {
     "data": {
      "text/plain": [
       "1.50652345995838"
      ]
     },
     "execution_count": 30,
     "metadata": {},
     "output_type": "execute_result"
    }
   ],
   "source": [
    "us10bond = pd.read_csv(ROOT+'series/additional_data/us_10ybond_yield.csv',index_col=0)\n",
    "us10bond.index = pd.to_datetime(us10bond.index)\n",
    "\n",
    "usCPI = pd.read_csv(ROOT+'series/additional_data/us_CPI.csv',index_col=0)\n",
    "usCPI.index = pd.to_datetime(usCPI.index)\n",
    "\n",
    "cpi_idx = lambda x:usCPI[usCPI.index<=pd.to_datetime(x)].index.max()\n",
    "cumulative_inflation = lambda a,b:(usCPI.loc[cpi_idx(b)]['CPI']-usCPI.loc[cpi_idx(a)]['CPI'])/usCPI.loc[cpi_idx(a)]['CPI']\n",
    "\n",
    "# risk free rate = 10y bond yield/inflation\n",
    "rf = ((1+us10bond[us10bond.index<=start].sort_index()['Yield'].values[-1])/100)/cumulative_inflation(start,stop) - 1\n",
    "\n",
    "# returns\n",
    "r = cumulative_returns['portfolio_return'].values[-1]\n",
    "rm = cumulative_returns['benchmark_return'].values[-1]\n",
    "\n",
    "alpha = r-rf-beta*(rm-rf)\n",
    "alpha\n"
   ]
  },
  {
   "cell_type": "code",
   "execution_count": 31,
   "id": "5ab266ce",
   "metadata": {
    "execution": {
     "iopub.execute_input": "2023-10-30T17:18:43.286041Z",
     "iopub.status.busy": "2023-10-30T17:18:43.285621Z",
     "iopub.status.idle": "2023-10-30T17:18:43.292182Z",
     "shell.execute_reply": "2023-10-30T17:18:43.291297Z"
    },
    "papermill": {
     "duration": 0.017168,
     "end_time": "2023-10-30T17:18:43.294579",
     "exception": false,
     "start_time": "2023-10-30T17:18:43.277411",
     "status": "completed"
    },
    "tags": []
   },
   "outputs": [
    {
     "data": {
      "text/plain": [
       "(-0.574566782935191,\n",
       " 0.9289407677947825,\n",
       " 0.006275954688565788,\n",
       " 1.50652345995838,\n",
       " -0.005192299107921514)"
      ]
     },
     "execution_count": 31,
     "metadata": {},
     "output_type": "execute_result"
    }
   ],
   "source": [
    "rf,r,rm,alpha,beta\n"
   ]
  },
  {
   "cell_type": "markdown",
   "id": "3d552f90",
   "metadata": {
    "papermill": {
     "duration": 0.006573,
     "end_time": "2023-10-30T17:18:43.308258",
     "exception": false,
     "start_time": "2023-10-30T17:18:43.301685",
     "status": "completed"
    },
    "tags": []
   },
   "source": [
    "Return over Max Drawdown"
   ]
  },
  {
   "cell_type": "code",
   "execution_count": 32,
   "id": "416c07d2",
   "metadata": {
    "execution": {
     "iopub.execute_input": "2023-10-30T17:18:43.323441Z",
     "iopub.status.busy": "2023-10-30T17:18:43.322964Z",
     "iopub.status.idle": "2023-10-30T17:18:43.331690Z",
     "shell.execute_reply": "2023-10-30T17:18:43.330531Z"
    },
    "papermill": {
     "duration": 0.01853,
     "end_time": "2023-10-30T17:18:43.333452",
     "exception": false,
     "start_time": "2023-10-30T17:18:43.314922",
     "status": "completed"
    },
    "tags": []
   },
   "outputs": [
    {
     "data": {
      "text/plain": [
       "portfolio_return    0.915067\n",
       "benchmark_return    0.008708\n",
       "dtype: float64"
      ]
     },
     "execution_count": 32,
     "metadata": {},
     "output_type": "execute_result"
    }
   ],
   "source": [
    "# https://www.investopedia.com/terms/r/return-over-maximum-drawdown-romad.asp\n",
    "max_draw_down = ((cumulative_returns.cummax()-cumulative_returns)).max()\n",
    "c_return = cumulative_returns.iloc[-1]\n",
    "c_return/max_draw_down"
   ]
  }
 ],
 "metadata": {
  "kernelspec": {
   "display_name": "Python 3",
   "language": "python",
   "name": "python3"
  },
  "language_info": {
   "codemirror_mode": {
    "name": "ipython",
    "version": 3
   },
   "file_extension": ".py",
   "mimetype": "text/x-python",
   "name": "python",
   "nbconvert_exporter": "python",
   "pygments_lexer": "ipython3",
   "version": "3.10.0"
  },
  "papermill": {
   "default_parameters": {},
   "duration": 44.421576,
   "end_time": "2023-10-30T17:18:43.861754",
   "environment_variables": {},
   "exception": null,
   "input_path": "__notebook__.ipynb",
   "output_path": "__notebook__.ipynb",
   "parameters": {},
   "start_time": "2023-10-30T17:17:59.440178",
   "version": "2.4.0"
  }
 },
 "nbformat": 4,
 "nbformat_minor": 5
}
